{
  "nbformat": 4,
  "nbformat_minor": 0,
  "metadata": {
    "colab": {
      "provenance": []
    },
    "kernelspec": {
      "name": "python3",
      "display_name": "Python 3"
    },
    "language_info": {
      "name": "python"
    }
  },
  "cells": [
    {
      "cell_type": "code",
      "execution_count": null,
      "metadata": {
        "colab": {
          "base_uri": "https://localhost:8080/"
        },
        "id": "F_HadPbY25_F",
        "outputId": "d815ada2-54f8-46e5-a055-2b8774c926d1"
      },
      "outputs": [
        {
          "output_type": "stream",
          "name": "stdout",
          "text": [
            "   Pregnancies  Glucose  BloodPressure  SkinThickness  Insulin   BMI  \\\n",
            "0            6      148             72             35        0  33.6   \n",
            "1            1       85             66             29        0  26.6   \n",
            "2            8      183             64              0        0  23.3   \n",
            "3            1       89             66             23       94  28.1   \n",
            "4            0      137             40             35      168  43.1   \n",
            "\n",
            "   DiabetesPedigreeFunction  Age  Outcome  \n",
            "0                     0.627   50        1  \n",
            "1                     0.351   31        0  \n",
            "2                     0.672   32        1  \n",
            "3                     0.167   21        0  \n",
            "4                     2.288   33        1  \n",
            "<class 'pandas.core.frame.DataFrame'>\n",
            "RangeIndex: 768 entries, 0 to 767\n",
            "Data columns (total 9 columns):\n",
            " #   Column                    Non-Null Count  Dtype  \n",
            "---  ------                    --------------  -----  \n",
            " 0   Pregnancies               768 non-null    int64  \n",
            " 1   Glucose                   768 non-null    int64  \n",
            " 2   BloodPressure             768 non-null    int64  \n",
            " 3   SkinThickness             768 non-null    int64  \n",
            " 4   Insulin                   768 non-null    int64  \n",
            " 5   BMI                       768 non-null    float64\n",
            " 6   DiabetesPedigreeFunction  768 non-null    float64\n",
            " 7   Age                       768 non-null    int64  \n",
            " 8   Outcome                   768 non-null    int64  \n",
            "dtypes: float64(2), int64(7)\n",
            "memory usage: 54.1 KB\n",
            "None\n",
            "       Pregnancies     Glucose  BloodPressure  SkinThickness     Insulin  \\\n",
            "count   768.000000  768.000000     768.000000     768.000000  768.000000   \n",
            "mean      3.845052  120.894531      69.105469      20.536458   79.799479   \n",
            "std       3.369578   31.972618      19.355807      15.952218  115.244002   \n",
            "min       0.000000    0.000000       0.000000       0.000000    0.000000   \n",
            "25%       1.000000   99.000000      62.000000       0.000000    0.000000   \n",
            "50%       3.000000  117.000000      72.000000      23.000000   30.500000   \n",
            "75%       6.000000  140.250000      80.000000      32.000000  127.250000   \n",
            "max      17.000000  199.000000     122.000000      99.000000  846.000000   \n",
            "\n",
            "              BMI  DiabetesPedigreeFunction         Age     Outcome  \n",
            "count  768.000000                768.000000  768.000000  768.000000  \n",
            "mean    31.992578                  0.471876   33.240885    0.348958  \n",
            "std      7.884160                  0.331329   11.760232    0.476951  \n",
            "min      0.000000                  0.078000   21.000000    0.000000  \n",
            "25%     27.300000                  0.243750   24.000000    0.000000  \n",
            "50%     32.000000                  0.372500   29.000000    0.000000  \n",
            "75%     36.600000                  0.626250   41.000000    1.000000  \n",
            "max     67.100000                  2.420000   81.000000    1.000000  \n",
            "Pregnancies                 0\n",
            "Glucose                     0\n",
            "BloodPressure               0\n",
            "SkinThickness               0\n",
            "Insulin                     0\n",
            "BMI                         0\n",
            "DiabetesPedigreeFunction    0\n",
            "Age                         0\n",
            "Outcome                     0\n",
            "dtype: int64\n"
          ]
        }
      ],
      "source": [
        "#  1. Data Loading & Exploration\n",
        "import pandas as pd\n",
        "\n",
        "# Load CSV\n",
        "df = pd.read_csv('/content/diabetes.csv')\n",
        "print(df.head())\n",
        "print(df.info())\n",
        "print(df.describe())\n",
        "print(df.isnull().sum())\n"
      ]
    },
    {
      "cell_type": "code",
      "source": [
        "# 2. Preprocessing\n",
        "from sklearn.preprocessing import StandardScaler\n",
        "\n",
        "X = df.drop('Outcome', axis=1)\n",
        "y = df['Outcome']\n",
        "\n",
        "scaler = StandardScaler()\n",
        "X_scaled = scaler.fit_transform(X)\n"
      ],
      "metadata": {
        "id": "MH-VULhA29xb"
      },
      "execution_count": null,
      "outputs": []
    },
    {
      "cell_type": "code",
      "source": [
        "# 3. Train-Test Split\n",
        "from sklearn.model_selection import train_test_split\n",
        "\n",
        "X_train, X_test, y_train, y_test = train_test_split(X_scaled, y, test_size=0.2, random_state=42)\n"
      ],
      "metadata": {
        "id": "MwVOlVT32908"
      },
      "execution_count": null,
      "outputs": []
    },
    {
      "cell_type": "code",
      "source": [
        "# 4. Model Training\n",
        "from sklearn.tree import DecisionTreeClassifier\n",
        "from sklearn.ensemble import RandomForestClassifier\n",
        "from sklearn.svm import SVC\n",
        "from xgboost import XGBClassifier\n",
        "\n",
        "clf_dt = DecisionTreeClassifier().fit(X_train, y_train)\n",
        "clf_rf = RandomForestClassifier().fit(X_train, y_train)\n",
        "clf_svm = SVC(probability=True).fit(X_train, y_train)\n",
        "clf_xgb = XGBClassifier(use_label_encoder=False, eval_metric='logloss').fit(X_train, y_train)\n"
      ],
      "metadata": {
        "colab": {
          "base_uri": "https://localhost:8080/"
        },
        "id": "TkVQ4REA294h",
        "outputId": "e4c87c25-ebc0-46ed-8d52-942e06f6ff4e"
      },
      "execution_count": null,
      "outputs": [
        {
          "output_type": "stream",
          "name": "stderr",
          "text": [
            "/usr/local/lib/python3.11/dist-packages/xgboost/core.py:158: UserWarning: [17:37:16] WARNING: /workspace/src/learner.cc:740: \n",
            "Parameters: { \"use_label_encoder\" } are not used.\n",
            "\n",
            "  warnings.warn(smsg, UserWarning)\n"
          ]
        }
      ]
    },
    {
      "cell_type": "code",
      "source": [
        "#  5. Evaluation\n",
        "from sklearn.metrics import accuracy_score, classification_report\n",
        "\n",
        "models = {\n",
        "    'Decision Tree': clf_dt,\n",
        "    'Random Forest': clf_rf,\n",
        "    'SVM': clf_svm,\n",
        "    'XGBoost': clf_xgb\n",
        "}\n",
        "\n",
        "for name, model in models.items():\n",
        "    preds = model.predict(X_test)\n",
        "    print(f\"{name} Accuracy: {accuracy_score(y_test, preds):.4f}\")\n",
        "    print(classification_report(y_test, preds))\n"
      ],
      "metadata": {
        "colab": {
          "base_uri": "https://localhost:8080/"
        },
        "id": "RVi2Elm_298a",
        "outputId": "88bbcd80-9772-4a1c-d3f0-f2454db51883"
      },
      "execution_count": null,
      "outputs": [
        {
          "output_type": "stream",
          "name": "stdout",
          "text": [
            "Decision Tree Accuracy: 0.7597\n",
            "              precision    recall  f1-score   support\n",
            "\n",
            "           0       0.84      0.77      0.80        99\n",
            "           1       0.64      0.75      0.69        55\n",
            "\n",
            "    accuracy                           0.76       154\n",
            "   macro avg       0.74      0.76      0.75       154\n",
            "weighted avg       0.77      0.76      0.76       154\n",
            "\n",
            "Random Forest Accuracy: 0.7403\n",
            "              precision    recall  f1-score   support\n",
            "\n",
            "           0       0.78      0.83      0.80        99\n",
            "           1       0.65      0.58      0.62        55\n",
            "\n",
            "    accuracy                           0.74       154\n",
            "   macro avg       0.72      0.71      0.71       154\n",
            "weighted avg       0.74      0.74      0.74       154\n",
            "\n",
            "SVM Accuracy: 0.7273\n",
            "              precision    recall  f1-score   support\n",
            "\n",
            "           0       0.77      0.82      0.79        99\n",
            "           1       0.63      0.56      0.60        55\n",
            "\n",
            "    accuracy                           0.73       154\n",
            "   macro avg       0.70      0.69      0.70       154\n",
            "weighted avg       0.72      0.73      0.72       154\n",
            "\n",
            "XGBoost Accuracy: 0.7078\n",
            "              precision    recall  f1-score   support\n",
            "\n",
            "           0       0.79      0.74      0.76        99\n",
            "           1       0.58      0.65      0.62        55\n",
            "\n",
            "    accuracy                           0.71       154\n",
            "   macro avg       0.69      0.70      0.69       154\n",
            "weighted avg       0.72      0.71      0.71       154\n",
            "\n"
          ]
        }
      ]
    },
    {
      "cell_type": "code",
      "source": [
        "# percentage\n",
        "from sklearn.metrics import accuracy_score, classification_report\n",
        "\n",
        "models = {\n",
        "    'Decision Tree': clf_dt,\n",
        "    'Random Forest': clf_rf,\n",
        "    'SVM': clf_svm,\n",
        "    'XGBoost': clf_xgb\n",
        "}\n",
        "\n",
        "for name, model in models.items():\n",
        "    preds = model.predict(X_test)\n",
        "    acc = accuracy_score(y_test, preds) * 100  # Convert to percentage\n",
        "    print(f\"{name} Accuracy: {acc:.2f}%\")      # Format to 2 decimal places\n",
        "    print(classification_report(y_test, preds))\n"
      ],
      "metadata": {
        "colab": {
          "base_uri": "https://localhost:8080/"
        },
        "id": "ukIPiPz53-CX",
        "outputId": "3d4040b8-b227-4e9b-b24f-bffab0c65e88"
      },
      "execution_count": null,
      "outputs": [
        {
          "output_type": "stream",
          "name": "stdout",
          "text": [
            "Decision Tree Accuracy: 75.97%\n",
            "              precision    recall  f1-score   support\n",
            "\n",
            "           0       0.84      0.77      0.80        99\n",
            "           1       0.64      0.75      0.69        55\n",
            "\n",
            "    accuracy                           0.76       154\n",
            "   macro avg       0.74      0.76      0.75       154\n",
            "weighted avg       0.77      0.76      0.76       154\n",
            "\n",
            "Random Forest Accuracy: 74.03%\n",
            "              precision    recall  f1-score   support\n",
            "\n",
            "           0       0.78      0.83      0.80        99\n",
            "           1       0.65      0.58      0.62        55\n",
            "\n",
            "    accuracy                           0.74       154\n",
            "   macro avg       0.72      0.71      0.71       154\n",
            "weighted avg       0.74      0.74      0.74       154\n",
            "\n",
            "SVM Accuracy: 72.73%\n",
            "              precision    recall  f1-score   support\n",
            "\n",
            "           0       0.77      0.82      0.79        99\n",
            "           1       0.63      0.56      0.60        55\n",
            "\n",
            "    accuracy                           0.73       154\n",
            "   macro avg       0.70      0.69      0.70       154\n",
            "weighted avg       0.72      0.73      0.72       154\n",
            "\n",
            "XGBoost Accuracy: 70.78%\n",
            "              precision    recall  f1-score   support\n",
            "\n",
            "           0       0.79      0.74      0.76        99\n",
            "           1       0.58      0.65      0.62        55\n",
            "\n",
            "    accuracy                           0.71       154\n",
            "   macro avg       0.69      0.70      0.69       154\n",
            "weighted avg       0.72      0.71      0.71       154\n",
            "\n"
          ]
        }
      ]
    },
    {
      "cell_type": "code",
      "source": [
        "# . Model Saving (to use in Flask)\n",
        "import joblib\n",
        "\n",
        "joblib.dump(clf_dt, 'diabetes_model.joblib')\n",
        "joblib.dump(clf_rf, 'diabetes_model_rfc.joblib')\n",
        "joblib.dump(clf_xgb, 'diabetes_model_xgb.joblib')\n",
        "joblib.dump(clf_svm, 'diabetes_model_svm.joblib')\n",
        "joblib.dump(scaler, 'diabetes_scaler.joblib')  # important for prediction\n"
      ],
      "metadata": {
        "id": "cWMxTvej3Y2I"
      },
      "execution_count": null,
      "outputs": []
    }
  ]
}